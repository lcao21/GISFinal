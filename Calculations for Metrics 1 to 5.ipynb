{
 "cells": [
  {
   "cell_type": "markdown",
   "metadata": {},
   "source": [
    "# Analysis for Metrics 1- 5\n",
    "\n",
    "## Lily Cao"
   ]
  },
  {
   "attachments": {},
   "cell_type": "markdown",
   "metadata": {},
   "source": [
    "Using Python, I was able to create dataframes and csvs that I later used to map my calculations. The five key metrics I calculated here are:  \n",
    "\n",
    "1.\tThe rate of crimes committed during an outage with respect to crimes committed within a buffer [City level]\n",
    "2.\tThe rate of crimes committed during an outage with respect to crimes committed within that same buffer [Buffer level]\n",
    "3.\tThe rate of crimes committed during an outage with respect to all crimes committed in Chicago in 2016 [City level]\n",
    "4.\tThe rate of crimes committed during an outage with respect to the outage time period [Buffer level]\n",
    "5.\tThe rate of crimes committed pre-/post-outage with respect to the non-outage time period [Buffer level]"
   ]
  },
  {
   "cell_type": "markdown",
   "metadata": {},
   "source": [
    "After importing the csvs downloaded from the Chicago Data Portal, I created dataframes for each and dropped insignificant columns. With the streetlight outage csvs, I merged them and dropped any duplicate requests."
   ]
  },
  {
   "cell_type": "code",
   "execution_count": 2,
   "metadata": {},
   "outputs": [],
   "source": [
    "import pandas as pd\n",
    "street_all_out = pd.read_csv('Street All Out.csv')\n",
    "street_one_out = pd.read_csv('Street One Out.csv')\n",
    "crimes = pd.read_csv(\"Crimes.csv\")\n",
    "df = pd.concat([street_all_out, street_one_out])\n",
    "df = df[~df.Status.str.contains('Dup')]\n",
    "df = df.dropna()\n",
    "crimes = crimes.drop(columns=['Case Number', 'Block', 'Beat', 'IUCR', 'Description', 'Community Area', \\\n",
    "                             'FBI Code', 'Updated On', 'Year', 'Domestic'])\n",
    "crimes = crimes.dropna()"
   ]
  },
  {
   "cell_type": "markdown",
   "metadata": {},
   "source": [
    "I narrow down my analysis to crimes and outages that occurred during 2016. While the homicide rate remained steady between 2010 and 2015, it increased dramatically in 2016, becoming the highest homicide rate in Chicago since the mid-1990s.\n"
   ]
  },
  {
   "cell_type": "code",
   "execution_count": 3,
   "metadata": {},
   "outputs": [
    {
     "data": {
      "text/html": [
       "<div>\n",
       "<style scoped>\n",
       "    .dataframe tbody tr th:only-of-type {\n",
       "        vertical-align: middle;\n",
       "    }\n",
       "\n",
       "    .dataframe tbody tr th {\n",
       "        vertical-align: top;\n",
       "    }\n",
       "\n",
       "    .dataframe thead th {\n",
       "        text-align: right;\n",
       "    }\n",
       "</style>\n",
       "<table border=\"1\" class=\"dataframe\">\n",
       "  <thead>\n",
       "    <tr style=\"text-align: right;\">\n",
       "      <th></th>\n",
       "      <th>X Coordinate</th>\n",
       "      <th>Y Coordinate</th>\n",
       "    </tr>\n",
       "  </thead>\n",
       "  <tbody>\n",
       "    <tr>\n",
       "      <th>152147</th>\n",
       "      <td>1.183375e+06</td>\n",
       "      <td>1.848798e+06</td>\n",
       "    </tr>\n",
       "    <tr>\n",
       "      <th>152148</th>\n",
       "      <td>1.152592e+06</td>\n",
       "      <td>1.893323e+06</td>\n",
       "    </tr>\n",
       "    <tr>\n",
       "      <th>152149</th>\n",
       "      <td>1.171092e+06</td>\n",
       "      <td>1.843569e+06</td>\n",
       "    </tr>\n",
       "    <tr>\n",
       "      <th>152150</th>\n",
       "      <td>1.183402e+06</td>\n",
       "      <td>1.847917e+06</td>\n",
       "    </tr>\n",
       "    <tr>\n",
       "      <th>152151</th>\n",
       "      <td>1.183064e+06</td>\n",
       "      <td>1.848128e+06</td>\n",
       "    </tr>\n",
       "  </tbody>\n",
       "</table>\n",
       "</div>"
      ],
      "text/plain": [
       "        X Coordinate  Y Coordinate\n",
       "152147  1.183375e+06  1.848798e+06\n",
       "152148  1.152592e+06  1.893323e+06\n",
       "152149  1.171092e+06  1.843569e+06\n",
       "152150  1.183402e+06  1.847917e+06\n",
       "152151  1.183064e+06  1.848128e+06"
      ]
     },
     "execution_count": 3,
     "metadata": {},
     "output_type": "execute_result"
    }
   ],
   "source": [
    "out_2016 = df.loc[df['Creation Date'].str.contains('2016')]\n",
    "crime_2016= crimes.loc[crimes['Date'].str.contains('2016')]\n",
    "out_2016.iloc[:,7:9].head()"
   ]
  },
  {
   "cell_type": "markdown",
   "metadata": {},
   "source": [
    "Dataframe 'df' includes all Euclidean distances between each crime and outage. Columns represent indices of crime_2016 (aka the crimes). Rows represent indices of out_2016 (aka the outages)."
   ]
  },
  {
   "cell_type": "code",
   "execution_count": 4,
   "metadata": {},
   "outputs": [
    {
     "data": {
      "text/html": [
       "<div>\n",
       "<style scoped>\n",
       "    .dataframe tbody tr th:only-of-type {\n",
       "        vertical-align: middle;\n",
       "    }\n",
       "\n",
       "    .dataframe tbody tr th {\n",
       "        vertical-align: top;\n",
       "    }\n",
       "\n",
       "    .dataframe thead th {\n",
       "        text-align: right;\n",
       "    }\n",
       "</style>\n",
       "<table border=\"1\" class=\"dataframe\">\n",
       "  <thead>\n",
       "    <tr style=\"text-align: right;\">\n",
       "      <th></th>\n",
       "      <th>0</th>\n",
       "      <th>1</th>\n",
       "      <th>2</th>\n",
       "      <th>3</th>\n",
       "      <th>4</th>\n",
       "      <th>5</th>\n",
       "      <th>6</th>\n",
       "      <th>7</th>\n",
       "      <th>8</th>\n",
       "      <th>9</th>\n",
       "      <th>...</th>\n",
       "      <th>42728</th>\n",
       "      <th>42729</th>\n",
       "      <th>42730</th>\n",
       "      <th>42731</th>\n",
       "      <th>42732</th>\n",
       "      <th>42733</th>\n",
       "      <th>42734</th>\n",
       "      <th>42735</th>\n",
       "      <th>42736</th>\n",
       "      <th>42737</th>\n",
       "    </tr>\n",
       "  </thead>\n",
       "  <tbody>\n",
       "    <tr>\n",
       "      <th>0</th>\n",
       "      <td>48188.511359</td>\n",
       "      <td>15714.464329</td>\n",
       "      <td>34567.768129</td>\n",
       "      <td>56580.236817</td>\n",
       "      <td>51696.399048</td>\n",
       "      <td>77953.709420</td>\n",
       "      <td>68785.386755</td>\n",
       "      <td>57099.913885</td>\n",
       "      <td>31899.733426</td>\n",
       "      <td>50044.994841</td>\n",
       "      <td>...</td>\n",
       "      <td>60522.093449</td>\n",
       "      <td>45968.012375</td>\n",
       "      <td>30545.611272</td>\n",
       "      <td>19179.123040</td>\n",
       "      <td>52047.581844</td>\n",
       "      <td>21400.956700</td>\n",
       "      <td>12057.613877</td>\n",
       "      <td>14703.183479</td>\n",
       "      <td>8821.805073</td>\n",
       "      <td>13174.122732</td>\n",
       "    </tr>\n",
       "    <tr>\n",
       "      <th>1</th>\n",
       "      <td>20727.830974</td>\n",
       "      <td>62846.254927</td>\n",
       "      <td>26759.924994</td>\n",
       "      <td>3597.691240</td>\n",
       "      <td>16723.984653</td>\n",
       "      <td>24150.904368</td>\n",
       "      <td>14768.723497</td>\n",
       "      <td>8279.614986</td>\n",
       "      <td>22233.315514</td>\n",
       "      <td>4120.246025</td>\n",
       "      <td>...</td>\n",
       "      <td>18953.904005</td>\n",
       "      <td>13856.420389</td>\n",
       "      <td>31650.223752</td>\n",
       "      <td>36440.763237</td>\n",
       "      <td>36919.019839</td>\n",
       "      <td>66168.365943</td>\n",
       "      <td>43903.885276</td>\n",
       "      <td>62037.878727</td>\n",
       "      <td>47340.472233</td>\n",
       "      <td>56360.430669</td>\n",
       "    </tr>\n",
       "    <tr>\n",
       "      <th>2</th>\n",
       "      <td>52362.877059</td>\n",
       "      <td>9863.723871</td>\n",
       "      <td>28828.235110</td>\n",
       "      <td>56094.137636</td>\n",
       "      <td>54812.943487</td>\n",
       "      <td>77212.243906</td>\n",
       "      <td>66980.768236</td>\n",
       "      <td>57811.139724</td>\n",
       "      <td>32102.332149</td>\n",
       "      <td>49268.299944</td>\n",
       "      <td>...</td>\n",
       "      <td>63399.063059</td>\n",
       "      <td>48154.441640</td>\n",
       "      <td>37011.018986</td>\n",
       "      <td>17027.029847</td>\n",
       "      <td>42291.682943</td>\n",
       "      <td>13389.242533</td>\n",
       "      <td>10796.285822</td>\n",
       "      <td>27826.998158</td>\n",
       "      <td>8971.643686</td>\n",
       "      <td>26448.236830</td>\n",
       "    </tr>\n",
       "    <tr>\n",
       "      <th>3</th>\n",
       "      <td>49055.428455</td>\n",
       "      <td>14958.446497</td>\n",
       "      <td>35052.191340</td>\n",
       "      <td>57343.910179</td>\n",
       "      <td>52548.591754</td>\n",
       "      <td>78722.759523</td>\n",
       "      <td>69512.478596</td>\n",
       "      <td>57900.357736</td>\n",
       "      <td>32646.608160</td>\n",
       "      <td>50792.027401</td>\n",
       "      <td>...</td>\n",
       "      <td>61373.983450</td>\n",
       "      <td>46797.128388</td>\n",
       "      <td>31425.932489</td>\n",
       "      <td>19742.039252</td>\n",
       "      <td>52304.234498</td>\n",
       "      <td>20657.145930</td>\n",
       "      <td>12504.466540</td>\n",
       "      <td>14832.115778</td>\n",
       "      <td>9167.901590</td>\n",
       "      <td>13635.847065</td>\n",
       "    </tr>\n",
       "    <tr>\n",
       "      <th>4</th>\n",
       "      <td>48778.603756</td>\n",
       "      <td>14977.396368</td>\n",
       "      <td>34652.720469</td>\n",
       "      <td>56986.779545</td>\n",
       "      <td>52250.541311</td>\n",
       "      <td>78367.590864</td>\n",
       "      <td>69142.383439</td>\n",
       "      <td>57560.856510</td>\n",
       "      <td>32283.827312</td>\n",
       "      <td>50428.716484</td>\n",
       "      <td>...</td>\n",
       "      <td>61075.398121</td>\n",
       "      <td>46477.099580</td>\n",
       "      <td>31190.089585</td>\n",
       "      <td>19345.555675</td>\n",
       "      <td>51921.037986</td>\n",
       "      <td>20665.546906</td>\n",
       "      <td>12105.138590</td>\n",
       "      <td>15122.766880</td>\n",
       "      <td>8772.555826</td>\n",
       "      <td>13797.301286</td>\n",
       "    </tr>\n",
       "  </tbody>\n",
       "</table>\n",
       "<p>5 rows × 42738 columns</p>\n",
       "</div>"
      ],
      "text/plain": [
       "          0             1             2             3             4      \\\n",
       "0  48188.511359  15714.464329  34567.768129  56580.236817  51696.399048   \n",
       "1  20727.830974  62846.254927  26759.924994   3597.691240  16723.984653   \n",
       "2  52362.877059   9863.723871  28828.235110  56094.137636  54812.943487   \n",
       "3  49055.428455  14958.446497  35052.191340  57343.910179  52548.591754   \n",
       "4  48778.603756  14977.396368  34652.720469  56986.779545  52250.541311   \n",
       "\n",
       "          5             6             7             8             9      ...  \\\n",
       "0  77953.709420  68785.386755  57099.913885  31899.733426  50044.994841  ...   \n",
       "1  24150.904368  14768.723497   8279.614986  22233.315514   4120.246025  ...   \n",
       "2  77212.243906  66980.768236  57811.139724  32102.332149  49268.299944  ...   \n",
       "3  78722.759523  69512.478596  57900.357736  32646.608160  50792.027401  ...   \n",
       "4  78367.590864  69142.383439  57560.856510  32283.827312  50428.716484  ...   \n",
       "\n",
       "          42728         42729         42730         42731         42732  \\\n",
       "0  60522.093449  45968.012375  30545.611272  19179.123040  52047.581844   \n",
       "1  18953.904005  13856.420389  31650.223752  36440.763237  36919.019839   \n",
       "2  63399.063059  48154.441640  37011.018986  17027.029847  42291.682943   \n",
       "3  61373.983450  46797.128388  31425.932489  19742.039252  52304.234498   \n",
       "4  61075.398121  46477.099580  31190.089585  19345.555675  51921.037986   \n",
       "\n",
       "          42733         42734         42735         42736         42737  \n",
       "0  21400.956700  12057.613877  14703.183479   8821.805073  13174.122732  \n",
       "1  66168.365943  43903.885276  62037.878727  47340.472233  56360.430669  \n",
       "2  13389.242533  10796.285822  27826.998158   8971.643686  26448.236830  \n",
       "3  20657.145930  12504.466540  14832.115778   9167.901590  13635.847065  \n",
       "4  20665.546906  12105.138590  15122.766880   8772.555826  13797.301286  \n",
       "\n",
       "[5 rows x 42738 columns]"
      ]
     },
     "execution_count": 4,
     "metadata": {},
     "output_type": "execute_result"
    }
   ],
   "source": [
    "import scipy\n",
    "import scipy.spatial\n",
    "ary = scipy.spatial.distance.cdist(out_2016.iloc[:,7:9], crime_2016.iloc[:,7:9], metric='euclidean')\n",
    "df = pd.DataFrame(ary)\n",
    "df.head() "
   ]
  },
  {
   "cell_type": "markdown",
   "metadata": {},
   "source": [
    "Outages is a list of dictionaries. Each non-empty dictionary maps a crime to its distance from an outage; all distances are less than or equal to 164.043 ft (50 meters)\n",
    "\n",
    "For instance, the dictionary at index 1 of the list contains 6 crimes. This tells us that the outage at index 1 of out_2016 has 6 crimes (at indices 3744, 16408, 17777, 19327, 21697, and 26915 of crime_2016) within 50 meters."
   ]
  },
  {
   "cell_type": "code",
   "execution_count": 5,
   "metadata": {},
   "outputs": [],
   "source": [
    "outages = []\n",
    "for i in range(df.shape[0]):\n",
    "    outages.append(df.iloc[i][df.iloc[i] <= 164.042].to_dict())"
   ]
  },
  {
   "cell_type": "markdown",
   "metadata": {},
   "source": [
    "I created a dataframe named during_outage. I first added two columns: 'outages' and 'crimes' by using the outages list I just created above. The 'outages' column contains indeces of outages from out_2016 that have crimes within 50 meters of it. The indeces of these crimes from crime_2016 make up the 'crimes' column here.  \n",
    "\n",
    "Essentially, I turned each dictionary from the outages list above into a table. Then, I merged every table.  \n",
    "\n",
    "We can use the same example from above--the dictionary for the outage at index 1 of out_2016 to see section of the merged table:"
   ]
  },
  {
   "cell_type": "code",
   "execution_count": 32,
   "metadata": {},
   "outputs": [
    {
     "data": {
      "text/html": [
       "<div>\n",
       "<style scoped>\n",
       "    .dataframe tbody tr th:only-of-type {\n",
       "        vertical-align: middle;\n",
       "    }\n",
       "\n",
       "    .dataframe tbody tr th {\n",
       "        vertical-align: top;\n",
       "    }\n",
       "\n",
       "    .dataframe thead th {\n",
       "        text-align: right;\n",
       "    }\n",
       "</style>\n",
       "<table border=\"1\" class=\"dataframe\">\n",
       "  <thead>\n",
       "    <tr style=\"text-align: right;\">\n",
       "      <th></th>\n",
       "      <th>outages</th>\n",
       "      <th>crimes</th>\n",
       "    </tr>\n",
       "  </thead>\n",
       "  <tbody>\n",
       "    <tr>\n",
       "      <th>0</th>\n",
       "      <td>1</td>\n",
       "      <td>3744</td>\n",
       "    </tr>\n",
       "    <tr>\n",
       "      <th>1</th>\n",
       "      <td>1</td>\n",
       "      <td>16408</td>\n",
       "    </tr>\n",
       "    <tr>\n",
       "      <th>2</th>\n",
       "      <td>1</td>\n",
       "      <td>17777</td>\n",
       "    </tr>\n",
       "    <tr>\n",
       "      <th>3</th>\n",
       "      <td>1</td>\n",
       "      <td>19327</td>\n",
       "    </tr>\n",
       "    <tr>\n",
       "      <th>4</th>\n",
       "      <td>1</td>\n",
       "      <td>21697</td>\n",
       "    </tr>\n",
       "    <tr>\n",
       "      <th>5</th>\n",
       "      <td>1</td>\n",
       "      <td>26915</td>\n",
       "    </tr>\n",
       "  </tbody>\n",
       "</table>\n",
       "</div>"
      ],
      "text/plain": [
       "   outages  crimes\n",
       "0        1    3744\n",
       "1        1   16408\n",
       "2        1   17777\n",
       "3        1   19327\n",
       "4        1   21697\n",
       "5        1   26915"
      ]
     },
     "execution_count": 32,
     "metadata": {},
     "output_type": "execute_result"
    }
   ],
   "source": [
    "indices = [i for i,x in enumerate(outages) if x]\n",
    "crimes_within_buffer = 0\n",
    "df_list = []\n",
    "for i in indices:\n",
    "    df1 = pd.DataFrame.from_dict(outages[i].keys())\n",
    "    df1.insert(0, 'outages', [i]*len(outages[i]))\n",
    "    df1.rename(columns={0:'crimes'}, inplace=True)\n",
    "    crimes_within_buffer += len(df1)\n",
    "    df_list.append(df1)\n",
    "    \n",
    "during_outage = pd.concat(df_list)\n",
    "during_outage.loc[during_outage['outages'] == 1]"
   ]
  },
  {
   "cell_type": "markdown",
   "metadata": {},
   "source": [
    "To avoid duplicating data, I added a column titled 'street' whose cells represent the street addresses of each street light that had at least one outage. From now on, instead of analyzing the data with respect to outages, I will do so with respect to streetlight addresses.  \n",
    "\n",
    "I added the following columns to the during_outage dataframe:  \n",
    "**crime time:** the date and time at which the crime was reported  \n",
    "**outage creation date:** the date on which the outage was reported  \n",
    "**outage completion date:** the date on which the outage was fixed  \n",
    "**during out:** a Boolean that tells us whether the crime was committed during the outage period"
   ]
  },
  {
   "cell_type": "code",
   "execution_count": 33,
   "metadata": {},
   "outputs": [],
   "source": [
    "crime_time = []\n",
    "for i in during_outage['crimes']:\n",
    "    crime_time.append(crime_2016.iloc[i]['Date'])\n",
    "\n",
    "outage_creation = []\n",
    "outage_complete = []\n",
    "for i in during_outage['outages']:\n",
    "    outage_creation.append(out_2016.iloc[i]['Creation Date'])\n",
    "    outage_complete.append(out_2016.iloc[i]['Completion Date'])\n",
    "\n",
    "streets = []\n",
    "for i in during_outage['outages']:\n",
    "    streets.append(out_2016.iloc[i]['Street Address'])\n",
    "    \n",
    "during_outage['crime time'] = crime_time\n",
    "during_outage['outage creation date'] = outage_creation\n",
    "during_outage['outage completion date'] = outage_complete\n",
    "during_outage.insert(loc=0, column='street', value = streets)\n",
    "during_outage = during_outage.sort_values(by='street')"
   ]
  },
  {
   "cell_type": "code",
   "execution_count": 34,
   "metadata": {},
   "outputs": [],
   "source": [
    "during_outage['during out'] = (during_outage['crime time'] < during_outage['outage completion date']) & \\\n",
    "              (during_outage['crime time'] >= during_outage['outage creation date'])"
   ]
  },
  {
   "cell_type": "markdown",
   "metadata": {},
   "source": [
    "Now, I can get 1) the number of crimes committed within a buffer and during an outage:"
   ]
  },
  {
   "cell_type": "code",
   "execution_count": 35,
   "metadata": {},
   "outputs": [
    {
     "data": {
      "text/plain": [
       "False    16758\n",
       "True       262\n",
       "Name: during out, dtype: int64"
      ]
     },
     "execution_count": 35,
     "metadata": {},
     "output_type": "execute_result"
    }
   ],
   "source": [
    "during_outage['during out'].value_counts()"
   ]
  },
  {
   "cell_type": "markdown",
   "metadata": {},
   "source": [
    "and 2) the number of crimes committed within a buffer:"
   ]
  },
  {
   "cell_type": "code",
   "execution_count": 36,
   "metadata": {},
   "outputs": [
    {
     "data": {
      "text/plain": [
       "17020"
      ]
     },
     "execution_count": 36,
     "metadata": {},
     "output_type": "execute_result"
    }
   ],
   "source": [
    "crimes_within_buffer"
   ]
  },
  {
   "cell_type": "markdown",
   "metadata": {},
   "source": [
    "With these two raw counts, I can calculate the <span style=\"color:red\"> **first metric** </span>:\n",
    "\n",
    "262/17020 = **1.539%**\n",
    "\n",
    "Next, to get the second metric, I have to calculate a similar rate but for **each** street light. I can get each rate by dividing the number of crimes committed during an outage and within a buffer by the total number of crimes committed within that same buffer."
   ]
  },
  {
   "cell_type": "markdown",
   "metadata": {},
   "source": [
    "I'll be calculating this rate for 6,226 (unique) street lights"
   ]
  },
  {
   "cell_type": "code",
   "execution_count": 37,
   "metadata": {},
   "outputs": [
    {
     "data": {
      "text/plain": [
       "6226"
      ]
     },
     "execution_count": 37,
     "metadata": {},
     "output_type": "execute_result"
    }
   ],
   "source": [
    "during_outage['street'].nunique()"
   ]
  },
  {
   "cell_type": "code",
   "execution_count": 38,
   "metadata": {},
   "outputs": [
    {
     "data": {
      "text/html": [
       "<div>\n",
       "<style scoped>\n",
       "    .dataframe tbody tr th:only-of-type {\n",
       "        vertical-align: middle;\n",
       "    }\n",
       "\n",
       "    .dataframe tbody tr th {\n",
       "        vertical-align: top;\n",
       "    }\n",
       "\n",
       "    .dataframe thead th {\n",
       "        text-align: right;\n",
       "    }\n",
       "</style>\n",
       "<table border=\"1\" class=\"dataframe\">\n",
       "  <thead>\n",
       "    <tr style=\"text-align: right;\">\n",
       "      <th></th>\n",
       "      <th>street</th>\n",
       "      <th>crimes during out</th>\n",
       "      <th>crimes in buffer</th>\n",
       "      <th>rate</th>\n",
       "    </tr>\n",
       "  </thead>\n",
       "  <tbody>\n",
       "    <tr>\n",
       "      <th>0</th>\n",
       "      <td>1 E 118TH ST</td>\n",
       "      <td>0</td>\n",
       "      <td>2</td>\n",
       "      <td>0.0</td>\n",
       "    </tr>\n",
       "    <tr>\n",
       "      <th>1</th>\n",
       "      <td>1 E 63RD ST</td>\n",
       "      <td>0</td>\n",
       "      <td>12</td>\n",
       "      <td>0.0</td>\n",
       "    </tr>\n",
       "    <tr>\n",
       "      <th>2</th>\n",
       "      <td>1 E 69TH ST</td>\n",
       "      <td>2</td>\n",
       "      <td>2</td>\n",
       "      <td>1.0</td>\n",
       "    </tr>\n",
       "    <tr>\n",
       "      <th>3</th>\n",
       "      <td>1 E WACKER DR</td>\n",
       "      <td>0</td>\n",
       "      <td>1</td>\n",
       "      <td>0.0</td>\n",
       "    </tr>\n",
       "    <tr>\n",
       "      <th>4</th>\n",
       "      <td>1 N CENTRAL AVE</td>\n",
       "      <td>0</td>\n",
       "      <td>12</td>\n",
       "      <td>0.0</td>\n",
       "    </tr>\n",
       "  </tbody>\n",
       "</table>\n",
       "</div>"
      ],
      "text/plain": [
       "            street  crimes during out  crimes in buffer  rate\n",
       "0     1 E 118TH ST                  0                 2   0.0\n",
       "1      1 E 63RD ST                  0                12   0.0\n",
       "2      1 E 69TH ST                  2                 2   1.0\n",
       "3    1 E WACKER DR                  0                 1   0.0\n",
       "4  1 N CENTRAL AVE                  0                12   0.0"
      ]
     },
     "execution_count": 38,
     "metadata": {},
     "output_type": "execute_result"
    }
   ],
   "source": [
    "all_lights = during_outage['street'].unique()\n",
    "\n",
    "rates = []\n",
    "num_crime_buffer = []\n",
    "num_crime_during = []\n",
    "\n",
    "for light in all_lights:\n",
    "    d = during_outage.loc[during_outage['street'] == light]\n",
    "    num_crime_buffer.append(d.shape[0])\n",
    "    \n",
    "    d2 = d[(d['crime time'] < d['outage completion date']) & \\\n",
    "           (d['crime time'] >= d['outage creation date'])]\n",
    "    num_crime_during.append(d2.shape[0])\n",
    "    \n",
    "    rate = len(d2)/len(d)\n",
    "    rates.append(rate)\n",
    "    \n",
    "each_street = pd.DataFrame(list(zip(all_lights, num_crime_during, num_crime_buffer, rates)), \\\n",
    "                           columns = ['street', 'crimes during out', 'crimes in buffer','rate'])\n",
    "each_street.head()"
   ]
  },
  {
   "cell_type": "markdown",
   "metadata": {},
   "source": [
    "Thus, the <span style=\"color:red\"> **second metric** </span> can be found in the 'rate' column of the each_street dataframe above.\n",
    "\n",
    "To map these rates/ratios in QGIS, I add columns for the longitudes and latitudes of each street light:"
   ]
  },
  {
   "cell_type": "code",
   "execution_count": 39,
   "metadata": {},
   "outputs": [
    {
     "data": {
      "text/html": [
       "<div>\n",
       "<style scoped>\n",
       "    .dataframe tbody tr th:only-of-type {\n",
       "        vertical-align: middle;\n",
       "    }\n",
       "\n",
       "    .dataframe tbody tr th {\n",
       "        vertical-align: top;\n",
       "    }\n",
       "\n",
       "    .dataframe thead th {\n",
       "        text-align: right;\n",
       "    }\n",
       "</style>\n",
       "<table border=\"1\" class=\"dataframe\">\n",
       "  <thead>\n",
       "    <tr style=\"text-align: right;\">\n",
       "      <th></th>\n",
       "      <th>street</th>\n",
       "      <th>crimes during out</th>\n",
       "      <th>crimes in buffer</th>\n",
       "      <th>rate</th>\n",
       "      <th>long</th>\n",
       "      <th>lat</th>\n",
       "    </tr>\n",
       "  </thead>\n",
       "  <tbody>\n",
       "    <tr>\n",
       "      <th>0</th>\n",
       "      <td>1 E 118TH ST</td>\n",
       "      <td>0</td>\n",
       "      <td>2</td>\n",
       "      <td>0.0</td>\n",
       "      <td>-87.622716</td>\n",
       "      <td>41.679850</td>\n",
       "    </tr>\n",
       "    <tr>\n",
       "      <th>1</th>\n",
       "      <td>1 E 63RD ST</td>\n",
       "      <td>0</td>\n",
       "      <td>12</td>\n",
       "      <td>0.0</td>\n",
       "      <td>-87.625375</td>\n",
       "      <td>41.780058</td>\n",
       "    </tr>\n",
       "    <tr>\n",
       "      <th>2</th>\n",
       "      <td>1 E 69TH ST</td>\n",
       "      <td>2</td>\n",
       "      <td>2</td>\n",
       "      <td>1.0</td>\n",
       "      <td>-87.624942</td>\n",
       "      <td>41.769194</td>\n",
       "    </tr>\n",
       "    <tr>\n",
       "      <th>3</th>\n",
       "      <td>1 E WACKER DR</td>\n",
       "      <td>0</td>\n",
       "      <td>1</td>\n",
       "      <td>0.0</td>\n",
       "      <td>-87.627975</td>\n",
       "      <td>41.886814</td>\n",
       "    </tr>\n",
       "    <tr>\n",
       "      <th>4</th>\n",
       "      <td>1 N CENTRAL AVE</td>\n",
       "      <td>0</td>\n",
       "      <td>12</td>\n",
       "      <td>0.0</td>\n",
       "      <td>-87.764864</td>\n",
       "      <td>41.880246</td>\n",
       "    </tr>\n",
       "  </tbody>\n",
       "</table>\n",
       "</div>"
      ],
      "text/plain": [
       "            street  crimes during out  crimes in buffer  rate       long  \\\n",
       "0     1 E 118TH ST                  0                 2   0.0 -87.622716   \n",
       "1      1 E 63RD ST                  0                12   0.0 -87.625375   \n",
       "2      1 E 69TH ST                  2                 2   1.0 -87.624942   \n",
       "3    1 E WACKER DR                  0                 1   0.0 -87.627975   \n",
       "4  1 N CENTRAL AVE                  0                12   0.0 -87.764864   \n",
       "\n",
       "         lat  \n",
       "0  41.679850  \n",
       "1  41.780058  \n",
       "2  41.769194  \n",
       "3  41.886814  \n",
       "4  41.880246  "
      ]
     },
     "execution_count": 39,
     "metadata": {},
     "output_type": "execute_result"
    }
   ],
   "source": [
    "long = []\n",
    "lat = []\n",
    "for light in all_lights:\n",
    "    i = out_2016.loc[out_2016['Street Address'] == light].index[0]    \n",
    "    long.append(out_2016.loc[i]['Longitude'])\n",
    "    lat.append(out_2016.loc[i]['Latitude'])\n",
    "\n",
    "each_street['long'] = long\n",
    "each_street['lat'] = lat\n",
    "\n",
    "each_street.head()"
   ]
  },
  {
   "cell_type": "markdown",
   "metadata": {},
   "source": [
    "For the <span style=\"color:red\"> **third metric** </span>, I need to calculate the number of crimes committed during an outage and within a buffer; and the total number of crimes committed (in Chicago in 2016). \n",
    "\n",
    "262 crimes were committed during an outage and within a buffer. The total number of crimes commtited is 42738. These two numbers give us a very low rate of 262/42738 = 0.613%  \n",
    "\n",
    "There were 236 street lights (out of 6226) with an individual crime within buffer rate greater than the Chicago average. That’s 3.791% percent of all street lights--a small percent. "
   ]
  },
  {
   "cell_type": "code",
   "execution_count": 81,
   "metadata": {},
   "outputs": [
    {
     "data": {
      "text/plain": [
       "False    16758\n",
       "True       262\n",
       "Name: during out, dtype: int64"
      ]
     },
     "execution_count": 81,
     "metadata": {},
     "output_type": "execute_result"
    }
   ],
   "source": [
    "during_outage['during out'].value_counts()"
   ]
  },
  {
   "cell_type": "code",
   "execution_count": 82,
   "metadata": {},
   "outputs": [
    {
     "data": {
      "text/plain": [
       "42738"
      ]
     },
     "execution_count": 82,
     "metadata": {},
     "output_type": "execute_result"
    }
   ],
   "source": [
    "len(crime_2016)"
   ]
  },
  {
   "cell_type": "code",
   "execution_count": 83,
   "metadata": {},
   "outputs": [
    {
     "data": {
      "text/html": [
       "<div>\n",
       "<style scoped>\n",
       "    .dataframe tbody tr th:only-of-type {\n",
       "        vertical-align: middle;\n",
       "    }\n",
       "\n",
       "    .dataframe tbody tr th {\n",
       "        vertical-align: top;\n",
       "    }\n",
       "\n",
       "    .dataframe thead th {\n",
       "        text-align: right;\n",
       "    }\n",
       "</style>\n",
       "<table border=\"1\" class=\"dataframe\">\n",
       "  <thead>\n",
       "    <tr style=\"text-align: right;\">\n",
       "      <th></th>\n",
       "      <th>street</th>\n",
       "      <th>crimes during out</th>\n",
       "      <th>crimes in buffer</th>\n",
       "      <th>rate</th>\n",
       "      <th>long</th>\n",
       "      <th>lat</th>\n",
       "      <th>above Chicago avg.</th>\n",
       "    </tr>\n",
       "  </thead>\n",
       "  <tbody>\n",
       "    <tr>\n",
       "      <th>0</th>\n",
       "      <td>1 E 118TH ST</td>\n",
       "      <td>0</td>\n",
       "      <td>2</td>\n",
       "      <td>0.0</td>\n",
       "      <td>-87.622716</td>\n",
       "      <td>41.679850</td>\n",
       "      <td>False</td>\n",
       "    </tr>\n",
       "    <tr>\n",
       "      <th>1</th>\n",
       "      <td>1 E 63RD ST</td>\n",
       "      <td>0</td>\n",
       "      <td>12</td>\n",
       "      <td>0.0</td>\n",
       "      <td>-87.625375</td>\n",
       "      <td>41.780058</td>\n",
       "      <td>False</td>\n",
       "    </tr>\n",
       "    <tr>\n",
       "      <th>2</th>\n",
       "      <td>1 E 69TH ST</td>\n",
       "      <td>2</td>\n",
       "      <td>2</td>\n",
       "      <td>1.0</td>\n",
       "      <td>-87.624942</td>\n",
       "      <td>41.769194</td>\n",
       "      <td>True</td>\n",
       "    </tr>\n",
       "    <tr>\n",
       "      <th>3</th>\n",
       "      <td>1 E WACKER DR</td>\n",
       "      <td>0</td>\n",
       "      <td>1</td>\n",
       "      <td>0.0</td>\n",
       "      <td>-87.627975</td>\n",
       "      <td>41.886814</td>\n",
       "      <td>False</td>\n",
       "    </tr>\n",
       "    <tr>\n",
       "      <th>4</th>\n",
       "      <td>1 N CENTRAL AVE</td>\n",
       "      <td>0</td>\n",
       "      <td>12</td>\n",
       "      <td>0.0</td>\n",
       "      <td>-87.764864</td>\n",
       "      <td>41.880246</td>\n",
       "      <td>False</td>\n",
       "    </tr>\n",
       "  </tbody>\n",
       "</table>\n",
       "</div>"
      ],
      "text/plain": [
       "            street  crimes during out  crimes in buffer  rate       long  \\\n",
       "0     1 E 118TH ST                  0                 2   0.0 -87.622716   \n",
       "1      1 E 63RD ST                  0                12   0.0 -87.625375   \n",
       "2      1 E 69TH ST                  2                 2   1.0 -87.624942   \n",
       "3    1 E WACKER DR                  0                 1   0.0 -87.627975   \n",
       "4  1 N CENTRAL AVE                  0                12   0.0 -87.764864   \n",
       "\n",
       "         lat  above Chicago avg.  \n",
       "0  41.679850               False  \n",
       "1  41.780058               False  \n",
       "2  41.769194                True  \n",
       "3  41.886814               False  \n",
       "4  41.880246               False  "
      ]
     },
     "execution_count": 83,
     "metadata": {},
     "output_type": "execute_result"
    }
   ],
   "source": [
    "each_street['above Chicago avg.'] = each_street['rate'] > 0.00613037577\n",
    "each_street.head()"
   ]
  },
  {
   "cell_type": "code",
   "execution_count": 84,
   "metadata": {},
   "outputs": [
    {
     "data": {
      "text/plain": [
       "0.037905557340186316"
      ]
     },
     "execution_count": 84,
     "metadata": {},
     "output_type": "execute_result"
    }
   ],
   "source": [
    "len(each_street[each_street['above Chicago avg.'] == True])/len(each_street) "
   ]
  },
  {
   "cell_type": "markdown",
   "metadata": {},
   "source": [
    "For the <span style=\"color:red\"> **fourth metric** </span>, I need to calculate the number of crimes committed during an outage for each buffer and the outage time period.\n",
    "\n",
    "By subtracting the outage creation date from the completion date, I get the number of *days* for which the street light was out. To avoid division by zero errors, I add one day to the time difference. Since I'm doing this after, I'm not (incorrectly) affecting my calculation of the number of crimes committed during an outage.\n",
    "\n",
    "I add another column for calculations of the third metric. Each cell in this column is the quotient of one divided by time difference. I chose one as the divisor because each row represents *one* crime."
   ]
  },
  {
   "cell_type": "code",
   "execution_count": 85,
   "metadata": {},
   "outputs": [
    {
     "data": {
      "text/html": [
       "<div>\n",
       "<style scoped>\n",
       "    .dataframe tbody tr th:only-of-type {\n",
       "        vertical-align: middle;\n",
       "    }\n",
       "\n",
       "    .dataframe tbody tr th {\n",
       "        vertical-align: top;\n",
       "    }\n",
       "\n",
       "    .dataframe thead th {\n",
       "        text-align: right;\n",
       "    }\n",
       "</style>\n",
       "<table border=\"1\" class=\"dataframe\">\n",
       "  <thead>\n",
       "    <tr style=\"text-align: right;\">\n",
       "      <th></th>\n",
       "      <th>street</th>\n",
       "      <th>outages</th>\n",
       "      <th>crimes</th>\n",
       "      <th>crime time</th>\n",
       "      <th>outage creation date</th>\n",
       "      <th>outage completion date</th>\n",
       "      <th>during out</th>\n",
       "      <th>time diff</th>\n",
       "      <th>4th metric</th>\n",
       "    </tr>\n",
       "  </thead>\n",
       "  <tbody>\n",
       "    <tr>\n",
       "      <th>1</th>\n",
       "      <td>1 E 69TH ST</td>\n",
       "      <td>5469</td>\n",
       "      <td>20063</td>\n",
       "      <td>2016-07-06 12:45:00</td>\n",
       "      <td>2016-06-01</td>\n",
       "      <td>2016-07-30</td>\n",
       "      <td>True</td>\n",
       "      <td>60</td>\n",
       "      <td>0.016667</td>\n",
       "    </tr>\n",
       "    <tr>\n",
       "      <th>0</th>\n",
       "      <td>1 E 69TH ST</td>\n",
       "      <td>5469</td>\n",
       "      <td>16049</td>\n",
       "      <td>2016-06-02 11:30:00</td>\n",
       "      <td>2016-06-01</td>\n",
       "      <td>2016-07-30</td>\n",
       "      <td>True</td>\n",
       "      <td>60</td>\n",
       "      <td>0.016667</td>\n",
       "    </tr>\n",
       "    <tr>\n",
       "      <th>6</th>\n",
       "      <td>1 W 87TH ST</td>\n",
       "      <td>7221</td>\n",
       "      <td>21559</td>\n",
       "      <td>2016-07-18 13:40:00</td>\n",
       "      <td>2016-07-16</td>\n",
       "      <td>2016-07-20</td>\n",
       "      <td>True</td>\n",
       "      <td>5</td>\n",
       "      <td>0.200000</td>\n",
       "    </tr>\n",
       "    <tr>\n",
       "      <th>5</th>\n",
       "      <td>1 W HARRISON ST</td>\n",
       "      <td>11424</td>\n",
       "      <td>31989</td>\n",
       "      <td>2016-10-10 01:00:00</td>\n",
       "      <td>2016-10-06</td>\n",
       "      <td>2016-10-12</td>\n",
       "      <td>True</td>\n",
       "      <td>7</td>\n",
       "      <td>0.142857</td>\n",
       "    </tr>\n",
       "    <tr>\n",
       "      <th>0</th>\n",
       "      <td>10 W 17TH ST</td>\n",
       "      <td>4277</td>\n",
       "      <td>11862</td>\n",
       "      <td>2016-04-26 18:00:00</td>\n",
       "      <td>2016-04-25</td>\n",
       "      <td>2016-04-27</td>\n",
       "      <td>True</td>\n",
       "      <td>3</td>\n",
       "      <td>0.333333</td>\n",
       "    </tr>\n",
       "  </tbody>\n",
       "</table>\n",
       "</div>"
      ],
      "text/plain": [
       "            street  outages  crimes          crime time outage creation date  \\\n",
       "1      1 E 69TH ST     5469   20063 2016-07-06 12:45:00           2016-06-01   \n",
       "0      1 E 69TH ST     5469   16049 2016-06-02 11:30:00           2016-06-01   \n",
       "6      1 W 87TH ST     7221   21559 2016-07-18 13:40:00           2016-07-16   \n",
       "5  1 W HARRISON ST    11424   31989 2016-10-10 01:00:00           2016-10-06   \n",
       "0     10 W 17TH ST     4277   11862 2016-04-26 18:00:00           2016-04-25   \n",
       "\n",
       "  outage completion date  during out  time diff  4th metric  \n",
       "1             2016-07-30        True         60    0.016667  \n",
       "0             2016-07-30        True         60    0.016667  \n",
       "6             2016-07-20        True          5    0.200000  \n",
       "5             2016-10-12        True          7    0.142857  \n",
       "0             2016-04-27        True          3    0.333333  "
      ]
     },
     "execution_count": 85,
     "metadata": {},
     "output_type": "execute_result"
    }
   ],
   "source": [
    "during_outage1 = during_outage.copy()\n",
    "during_outage1['crime time'] = pd.to_datetime(during_outage1['crime time'])\n",
    "during_outage1['outage creation date'] = pd.to_datetime(during_outage1['outage creation date'])\n",
    "during_outage1['outage completion date'] = pd.to_datetime(during_outage1['outage completion date']) \n",
    "\n",
    "during_outage1['time diff'] = during_outage1['outage completion date'] - \\\n",
    "                            during_outage1['outage creation date'] \n",
    "during_outage1['time diff'] = during_outage1['time diff'].dt.days + 1\n",
    "\n",
    "during_outage1['4th metric'] = 1 / during_outage1['time diff']\n",
    "\n",
    "fourth_m = during_outage1.loc[during_outage1['during out'] == True]\n",
    "fourth_m.head()"
   ]
  },
  {
   "cell_type": "markdown",
   "metadata": {},
   "source": [
    "By adding up the fourth metrics for each crime, I get the the correct fourth metric for each street light:"
   ]
  },
  {
   "cell_type": "code",
   "execution_count": 86,
   "metadata": {},
   "outputs": [
    {
     "data": {
      "text/html": [
       "<div>\n",
       "<style scoped>\n",
       "    .dataframe tbody tr th:only-of-type {\n",
       "        vertical-align: middle;\n",
       "    }\n",
       "\n",
       "    .dataframe tbody tr th {\n",
       "        vertical-align: top;\n",
       "    }\n",
       "\n",
       "    .dataframe thead th {\n",
       "        text-align: right;\n",
       "    }\n",
       "</style>\n",
       "<table border=\"1\" class=\"dataframe\">\n",
       "  <thead>\n",
       "    <tr style=\"text-align: right;\">\n",
       "      <th></th>\n",
       "      <th>street</th>\n",
       "      <th>4th metric</th>\n",
       "    </tr>\n",
       "  </thead>\n",
       "  <tbody>\n",
       "    <tr>\n",
       "      <th>0</th>\n",
       "      <td>1 E 69TH ST</td>\n",
       "      <td>0.033333</td>\n",
       "    </tr>\n",
       "    <tr>\n",
       "      <th>1</th>\n",
       "      <td>1 W 87TH ST</td>\n",
       "      <td>0.200000</td>\n",
       "    </tr>\n",
       "    <tr>\n",
       "      <th>2</th>\n",
       "      <td>1 W HARRISON ST</td>\n",
       "      <td>0.142857</td>\n",
       "    </tr>\n",
       "    <tr>\n",
       "      <th>3</th>\n",
       "      <td>10 W 17TH ST</td>\n",
       "      <td>0.333333</td>\n",
       "    </tr>\n",
       "    <tr>\n",
       "      <th>4</th>\n",
       "      <td>100 E RANDOLPH ST</td>\n",
       "      <td>0.500000</td>\n",
       "    </tr>\n",
       "  </tbody>\n",
       "</table>\n",
       "</div>"
      ],
      "text/plain": [
       "              street  4th metric\n",
       "0        1 E 69TH ST    0.033333\n",
       "1        1 W 87TH ST    0.200000\n",
       "2    1 W HARRISON ST    0.142857\n",
       "3       10 W 17TH ST    0.333333\n",
       "4  100 E RANDOLPH ST    0.500000"
      ]
     },
     "execution_count": 86,
     "metadata": {},
     "output_type": "execute_result"
    }
   ],
   "source": [
    "sum_list = []\n",
    "for street in fourth_m['street'].unique():\n",
    "    fourth_metrics = fourth_m.loc[fourth_m['street'] == street]['4th metric']\n",
    "    sum_list.append(sum(fourth_metrics))\n",
    "\n",
    "fourth_m = pd.DataFrame(fourth_m['street'].unique(), columns = ['street'])\n",
    "fourth_m['4th metric'] = sum_list\n",
    "fourth_m.head()"
   ]
  },
  {
   "cell_type": "markdown",
   "metadata": {},
   "source": [
    "For the <span style=\"color:red\"> **fifth metric** </span>, I need to calculate the number of crimes committed pre-/post-outage for each buffer and the non-outage time period.\n",
    "\n",
    "\n",
    "First, I created a dataframe mapping each street light to the number of days during which there was no outage. Then, for each street light, I counted the number of crimes that did not occur during an outage (aka crimes whose 'during out' column was False). By dividing these two lists, I could create a column called '5th metric' that gives me the desired rate."
   ]
  },
  {
   "cell_type": "code",
   "execution_count": 88,
   "metadata": {},
   "outputs": [
    {
     "data": {
      "text/html": [
       "<div>\n",
       "<style scoped>\n",
       "    .dataframe tbody tr th:only-of-type {\n",
       "        vertical-align: middle;\n",
       "    }\n",
       "\n",
       "    .dataframe tbody tr th {\n",
       "        vertical-align: top;\n",
       "    }\n",
       "\n",
       "    .dataframe thead th {\n",
       "        text-align: right;\n",
       "    }\n",
       "</style>\n",
       "<table border=\"1\" class=\"dataframe\">\n",
       "  <thead>\n",
       "    <tr style=\"text-align: right;\">\n",
       "      <th></th>\n",
       "      <th>street</th>\n",
       "      <th>time diff</th>\n",
       "      <th>num days no outage</th>\n",
       "    </tr>\n",
       "  </thead>\n",
       "  <tbody>\n",
       "    <tr>\n",
       "      <th>0</th>\n",
       "      <td>1 E 118TH ST</td>\n",
       "      <td>16</td>\n",
       "      <td>349</td>\n",
       "    </tr>\n",
       "    <tr>\n",
       "      <th>1</th>\n",
       "      <td>1 E 63RD ST</td>\n",
       "      <td>24</td>\n",
       "      <td>341</td>\n",
       "    </tr>\n",
       "    <tr>\n",
       "      <th>2</th>\n",
       "      <td>1 E 69TH ST</td>\n",
       "      <td>60</td>\n",
       "      <td>305</td>\n",
       "    </tr>\n",
       "    <tr>\n",
       "      <th>3</th>\n",
       "      <td>1 E WACKER DR</td>\n",
       "      <td>4</td>\n",
       "      <td>361</td>\n",
       "    </tr>\n",
       "    <tr>\n",
       "      <th>4</th>\n",
       "      <td>1 N CENTRAL AVE</td>\n",
       "      <td>4</td>\n",
       "      <td>361</td>\n",
       "    </tr>\n",
       "  </tbody>\n",
       "</table>\n",
       "</div>"
      ],
      "text/plain": [
       "            street  time diff  num days no outage\n",
       "0     1 E 118TH ST         16                 349\n",
       "1      1 E 63RD ST         24                 341\n",
       "2      1 E 69TH ST         60                 305\n",
       "3    1 E WACKER DR          4                 361\n",
       "4  1 N CENTRAL AVE          4                 361"
      ]
     },
     "execution_count": 88,
     "metadata": {},
     "output_type": "execute_result"
    }
   ],
   "source": [
    "during_outage2 = during_outage1.drop_duplicates('outages', inplace = False)\n",
    "d_o3 = during_outage2.groupby(['street'])['time diff'].sum().reset_index()\n",
    "d_o3['num days no outage'] = 365 - d_o3['time diff']\n",
    "d_o3.head()"
   ]
  },
  {
   "cell_type": "code",
   "execution_count": 89,
   "metadata": {},
   "outputs": [
    {
     "data": {
      "text/html": [
       "<div>\n",
       "<style scoped>\n",
       "    .dataframe tbody tr th:only-of-type {\n",
       "        vertical-align: middle;\n",
       "    }\n",
       "\n",
       "    .dataframe tbody tr th {\n",
       "        vertical-align: top;\n",
       "    }\n",
       "\n",
       "    .dataframe thead th {\n",
       "        text-align: right;\n",
       "    }\n",
       "</style>\n",
       "<table border=\"1\" class=\"dataframe\">\n",
       "  <thead>\n",
       "    <tr style=\"text-align: right;\">\n",
       "      <th></th>\n",
       "      <th>street</th>\n",
       "      <th>crimes not during out</th>\n",
       "      <th>non-outage time</th>\n",
       "      <th>5th metric</th>\n",
       "    </tr>\n",
       "  </thead>\n",
       "  <tbody>\n",
       "    <tr>\n",
       "      <th>0</th>\n",
       "      <td>1 E 118TH ST</td>\n",
       "      <td>2</td>\n",
       "      <td>349</td>\n",
       "      <td>0.005731</td>\n",
       "    </tr>\n",
       "    <tr>\n",
       "      <th>1</th>\n",
       "      <td>1 E 63RD ST</td>\n",
       "      <td>12</td>\n",
       "      <td>341</td>\n",
       "      <td>0.035191</td>\n",
       "    </tr>\n",
       "    <tr>\n",
       "      <th>2</th>\n",
       "      <td>1 E 69TH ST</td>\n",
       "      <td>0</td>\n",
       "      <td>305</td>\n",
       "      <td>0.000000</td>\n",
       "    </tr>\n",
       "    <tr>\n",
       "      <th>3</th>\n",
       "      <td>1 E WACKER DR</td>\n",
       "      <td>1</td>\n",
       "      <td>361</td>\n",
       "      <td>0.002770</td>\n",
       "    </tr>\n",
       "    <tr>\n",
       "      <th>4</th>\n",
       "      <td>1 N CENTRAL AVE</td>\n",
       "      <td>12</td>\n",
       "      <td>361</td>\n",
       "      <td>0.033241</td>\n",
       "    </tr>\n",
       "  </tbody>\n",
       "</table>\n",
       "</div>"
      ],
      "text/plain": [
       "            street  crimes not during out  non-outage time  5th metric\n",
       "0     1 E 118TH ST                      2              349    0.005731\n",
       "1      1 E 63RD ST                     12              341    0.035191\n",
       "2      1 E 69TH ST                      0              305    0.000000\n",
       "3    1 E WACKER DR                      1              361    0.002770\n",
       "4  1 N CENTRAL AVE                     12              361    0.033241"
      ]
     },
     "execution_count": 89,
     "metadata": {},
     "output_type": "execute_result"
    }
   ],
   "source": [
    "d_o = during_outage1\n",
    "num_crimes_not_out = []\n",
    "for street in all_lights:\n",
    "    c = d_o.loc[(d_o['street'] == street) & (d_o['during out'] == False)]\n",
    "    num_crimes_not_out.append(len(c))\n",
    "    \n",
    "fourth_half = pd.DataFrame(all_lights, columns = ['street'])\n",
    "fourth_half['crimes not during out'] = num_crimes_not_out\n",
    "fourth_half['non-outage time'] = list(d_o3['num days no outage'])\n",
    "fourth_half['5th metric'] = fourth_half['crimes not during out'] / fourth_half['non-outage time']\n",
    "fourth_half.head()"
   ]
  },
  {
   "cell_type": "markdown",
   "metadata": {},
   "source": [
    "I merged these two dataframes to get a complete overview of the metrics for each street light:"
   ]
  },
  {
   "cell_type": "code",
   "execution_count": 90,
   "metadata": {},
   "outputs": [
    {
     "data": {
      "text/html": [
       "<div>\n",
       "<style scoped>\n",
       "    .dataframe tbody tr th:only-of-type {\n",
       "        vertical-align: middle;\n",
       "    }\n",
       "\n",
       "    .dataframe tbody tr th {\n",
       "        vertical-align: top;\n",
       "    }\n",
       "\n",
       "    .dataframe thead th {\n",
       "        text-align: right;\n",
       "    }\n",
       "</style>\n",
       "<table border=\"1\" class=\"dataframe\">\n",
       "  <thead>\n",
       "    <tr style=\"text-align: right;\">\n",
       "      <th></th>\n",
       "      <th>street</th>\n",
       "      <th>4th metric</th>\n",
       "      <th>5th metric</th>\n",
       "    </tr>\n",
       "  </thead>\n",
       "  <tbody>\n",
       "    <tr>\n",
       "      <th>0</th>\n",
       "      <td>1 E 118TH ST</td>\n",
       "      <td>0.000000</td>\n",
       "      <td>0.005731</td>\n",
       "    </tr>\n",
       "    <tr>\n",
       "      <th>1</th>\n",
       "      <td>1 E 63RD ST</td>\n",
       "      <td>0.000000</td>\n",
       "      <td>0.035191</td>\n",
       "    </tr>\n",
       "    <tr>\n",
       "      <th>2</th>\n",
       "      <td>1 E 69TH ST</td>\n",
       "      <td>0.033333</td>\n",
       "      <td>0.000000</td>\n",
       "    </tr>\n",
       "    <tr>\n",
       "      <th>3</th>\n",
       "      <td>1 E WACKER DR</td>\n",
       "      <td>0.000000</td>\n",
       "      <td>0.002770</td>\n",
       "    </tr>\n",
       "    <tr>\n",
       "      <th>4</th>\n",
       "      <td>1 N CENTRAL AVE</td>\n",
       "      <td>0.000000</td>\n",
       "      <td>0.033241</td>\n",
       "    </tr>\n",
       "  </tbody>\n",
       "</table>\n",
       "</div>"
      ],
      "text/plain": [
       "            street  4th metric  5th metric\n",
       "0     1 E 118TH ST    0.000000    0.005731\n",
       "1      1 E 63RD ST    0.000000    0.035191\n",
       "2      1 E 69TH ST    0.033333    0.000000\n",
       "3    1 E WACKER DR    0.000000    0.002770\n",
       "4  1 N CENTRAL AVE    0.000000    0.033241"
      ]
     },
     "execution_count": 90,
     "metadata": {},
     "output_type": "execute_result"
    }
   ],
   "source": [
    "fourth_metric_merged = pd.DataFrame(all_lights, columns = ['street'])\n",
    "\n",
    "lst = []\n",
    "for street in all_lights:\n",
    "    if street in list(fourth_m['street']):\n",
    "        i = fourth_m[fourth_m['street'] == street].index[0]\n",
    "        lst.append(fourth_m.iloc[i]['4th metric'])\n",
    "    else:\n",
    "        lst.append(0)\n",
    "\n",
    "fourth_metric_merged['4th metric'] = lst \n",
    "fourth_metric_merged['5th metric'] = fourth_half['5th metric']\n",
    "\n",
    "fourth_metric_merged.head() "
   ]
  },
  {
   "cell_type": "markdown",
   "metadata": {},
   "source": [
    "To compare these rates for each street light, I made a new boolean column that tells us whether the 4th metric is greater than the 5th metric. The 4th metric tells us the rate of crimes being committed during an outage while the 5th metric tells us the rate of crimes being committed pre-/post-outage. If the former is greater than the latter, then there may be a positive relationship between street light outage and crime (rate)."
   ]
  },
  {
   "cell_type": "code",
   "execution_count": 91,
   "metadata": {},
   "outputs": [
    {
     "data": {
      "text/html": [
       "<div>\n",
       "<style scoped>\n",
       "    .dataframe tbody tr th:only-of-type {\n",
       "        vertical-align: middle;\n",
       "    }\n",
       "\n",
       "    .dataframe tbody tr th {\n",
       "        vertical-align: top;\n",
       "    }\n",
       "\n",
       "    .dataframe thead th {\n",
       "        text-align: right;\n",
       "    }\n",
       "</style>\n",
       "<table border=\"1\" class=\"dataframe\">\n",
       "  <thead>\n",
       "    <tr style=\"text-align: right;\">\n",
       "      <th></th>\n",
       "      <th>street</th>\n",
       "      <th>4th metric</th>\n",
       "      <th>5th metric</th>\n",
       "      <th>4th &gt; 5th metric</th>\n",
       "    </tr>\n",
       "  </thead>\n",
       "  <tbody>\n",
       "    <tr>\n",
       "      <th>0</th>\n",
       "      <td>1 E 118TH ST</td>\n",
       "      <td>0.000000</td>\n",
       "      <td>0.005731</td>\n",
       "      <td>False</td>\n",
       "    </tr>\n",
       "    <tr>\n",
       "      <th>1</th>\n",
       "      <td>1 E 63RD ST</td>\n",
       "      <td>0.000000</td>\n",
       "      <td>0.035191</td>\n",
       "      <td>False</td>\n",
       "    </tr>\n",
       "    <tr>\n",
       "      <th>2</th>\n",
       "      <td>1 E 69TH ST</td>\n",
       "      <td>0.033333</td>\n",
       "      <td>0.000000</td>\n",
       "      <td>True</td>\n",
       "    </tr>\n",
       "    <tr>\n",
       "      <th>3</th>\n",
       "      <td>1 E WACKER DR</td>\n",
       "      <td>0.000000</td>\n",
       "      <td>0.002770</td>\n",
       "      <td>False</td>\n",
       "    </tr>\n",
       "    <tr>\n",
       "      <th>4</th>\n",
       "      <td>1 N CENTRAL AVE</td>\n",
       "      <td>0.000000</td>\n",
       "      <td>0.033241</td>\n",
       "      <td>False</td>\n",
       "    </tr>\n",
       "  </tbody>\n",
       "</table>\n",
       "</div>"
      ],
      "text/plain": [
       "            street  4th metric  5th metric  4th > 5th metric\n",
       "0     1 E 118TH ST    0.000000    0.005731             False\n",
       "1      1 E 63RD ST    0.000000    0.035191             False\n",
       "2      1 E 69TH ST    0.033333    0.000000              True\n",
       "3    1 E WACKER DR    0.000000    0.002770             False\n",
       "4  1 N CENTRAL AVE    0.000000    0.033241             False"
      ]
     },
     "execution_count": 91,
     "metadata": {},
     "output_type": "execute_result"
    }
   ],
   "source": [
    "fourth_metric_merged['4th > 5th metric'] = (fourth_metric_merged['4th metric'] > fourth_metric_merged['5th metric'])\n",
    "fourth_metric_merged.head()"
   ]
  },
  {
   "cell_type": "markdown",
   "metadata": {},
   "source": [
    "To map these rates/ratios in QGIS, I add columns for the longitudes and latitudes of each street light:"
   ]
  },
  {
   "cell_type": "code",
   "execution_count": 92,
   "metadata": {},
   "outputs": [
    {
     "data": {
      "text/html": [
       "<div>\n",
       "<style scoped>\n",
       "    .dataframe tbody tr th:only-of-type {\n",
       "        vertical-align: middle;\n",
       "    }\n",
       "\n",
       "    .dataframe tbody tr th {\n",
       "        vertical-align: top;\n",
       "    }\n",
       "\n",
       "    .dataframe thead th {\n",
       "        text-align: right;\n",
       "    }\n",
       "</style>\n",
       "<table border=\"1\" class=\"dataframe\">\n",
       "  <thead>\n",
       "    <tr style=\"text-align: right;\">\n",
       "      <th></th>\n",
       "      <th>street</th>\n",
       "      <th>4th metric</th>\n",
       "      <th>5th metric</th>\n",
       "      <th>4th &gt; 5th metric</th>\n",
       "      <th>longitude</th>\n",
       "      <th>latitude</th>\n",
       "    </tr>\n",
       "  </thead>\n",
       "  <tbody>\n",
       "    <tr>\n",
       "      <th>0</th>\n",
       "      <td>1 E 118TH ST</td>\n",
       "      <td>0.000000</td>\n",
       "      <td>0.005731</td>\n",
       "      <td>False</td>\n",
       "      <td>-87.622716</td>\n",
       "      <td>41.679850</td>\n",
       "    </tr>\n",
       "    <tr>\n",
       "      <th>1</th>\n",
       "      <td>1 E 63RD ST</td>\n",
       "      <td>0.000000</td>\n",
       "      <td>0.035191</td>\n",
       "      <td>False</td>\n",
       "      <td>-87.625375</td>\n",
       "      <td>41.780058</td>\n",
       "    </tr>\n",
       "    <tr>\n",
       "      <th>2</th>\n",
       "      <td>1 E 69TH ST</td>\n",
       "      <td>0.033333</td>\n",
       "      <td>0.000000</td>\n",
       "      <td>True</td>\n",
       "      <td>-87.624942</td>\n",
       "      <td>41.769194</td>\n",
       "    </tr>\n",
       "    <tr>\n",
       "      <th>3</th>\n",
       "      <td>1 E WACKER DR</td>\n",
       "      <td>0.000000</td>\n",
       "      <td>0.002770</td>\n",
       "      <td>False</td>\n",
       "      <td>-87.627975</td>\n",
       "      <td>41.886814</td>\n",
       "    </tr>\n",
       "    <tr>\n",
       "      <th>4</th>\n",
       "      <td>1 N CENTRAL AVE</td>\n",
       "      <td>0.000000</td>\n",
       "      <td>0.033241</td>\n",
       "      <td>False</td>\n",
       "      <td>-87.764864</td>\n",
       "      <td>41.880246</td>\n",
       "    </tr>\n",
       "  </tbody>\n",
       "</table>\n",
       "</div>"
      ],
      "text/plain": [
       "            street  4th metric  5th metric  4th > 5th metric  longitude  \\\n",
       "0     1 E 118TH ST    0.000000    0.005731             False -87.622716   \n",
       "1      1 E 63RD ST    0.000000    0.035191             False -87.625375   \n",
       "2      1 E 69TH ST    0.033333    0.000000              True -87.624942   \n",
       "3    1 E WACKER DR    0.000000    0.002770             False -87.627975   \n",
       "4  1 N CENTRAL AVE    0.000000    0.033241             False -87.764864   \n",
       "\n",
       "    latitude  \n",
       "0  41.679850  \n",
       "1  41.780058  \n",
       "2  41.769194  \n",
       "3  41.886814  \n",
       "4  41.880246  "
      ]
     },
     "execution_count": 92,
     "metadata": {},
     "output_type": "execute_result"
    }
   ],
   "source": [
    "long = []\n",
    "lat = []\n",
    "for light in all_lights:\n",
    "    i = out_2016.loc[out_2016['Street Address'] == light].index[0]    \n",
    "    long.append(out_2016.loc[i]['Longitude'])\n",
    "    lat.append(out_2016.loc[i]['Latitude'])\n",
    "\n",
    "fourth_metric_merged['longitude'] = long\n",
    "fourth_metric_merged['latitude'] = lat\n",
    "\n",
    "fourth_metric_merged.head()"
   ]
  },
  {
   "cell_type": "code",
   "execution_count": 93,
   "metadata": {},
   "outputs": [
    {
     "data": {
      "text/plain": [
       "231"
      ]
     },
     "execution_count": 93,
     "metadata": {},
     "output_type": "execute_result"
    }
   ],
   "source": [
    "len(fourth_metric_merged[fourth_metric_merged['4th > 5th metric'] == True])"
   ]
  },
  {
   "cell_type": "markdown",
   "metadata": {},
   "source": [
    "231 street lights had higher crimes rates during an outage than during a non-outage period. That's 231/6226 = 3.710%."
   ]
  },
  {
   "cell_type": "code",
   "execution_count": 105,
   "metadata": {},
   "outputs": [
    {
     "data": {
      "text/html": [
       "<div>\n",
       "<style scoped>\n",
       "    .dataframe tbody tr th:only-of-type {\n",
       "        vertical-align: middle;\n",
       "    }\n",
       "\n",
       "    .dataframe tbody tr th {\n",
       "        vertical-align: top;\n",
       "    }\n",
       "\n",
       "    .dataframe thead th {\n",
       "        text-align: right;\n",
       "    }\n",
       "</style>\n",
       "<table border=\"1\" class=\"dataframe\">\n",
       "  <thead>\n",
       "    <tr style=\"text-align: right;\">\n",
       "      <th></th>\n",
       "      <th>street</th>\n",
       "      <th>4th metric</th>\n",
       "      <th>5th metric</th>\n",
       "      <th>4th &gt; 5th metric</th>\n",
       "      <th>longitude</th>\n",
       "      <th>latitude</th>\n",
       "      <th>metric diff</th>\n",
       "    </tr>\n",
       "  </thead>\n",
       "  <tbody>\n",
       "    <tr>\n",
       "      <th>0</th>\n",
       "      <td>1 E 118TH ST</td>\n",
       "      <td>0.000000</td>\n",
       "      <td>0.005731</td>\n",
       "      <td>False</td>\n",
       "      <td>-87.622716</td>\n",
       "      <td>41.679850</td>\n",
       "      <td>-0.005731</td>\n",
       "    </tr>\n",
       "    <tr>\n",
       "      <th>1</th>\n",
       "      <td>1 E 63RD ST</td>\n",
       "      <td>0.000000</td>\n",
       "      <td>0.035191</td>\n",
       "      <td>False</td>\n",
       "      <td>-87.625375</td>\n",
       "      <td>41.780058</td>\n",
       "      <td>-0.035191</td>\n",
       "    </tr>\n",
       "    <tr>\n",
       "      <th>2</th>\n",
       "      <td>1 E 69TH ST</td>\n",
       "      <td>0.033333</td>\n",
       "      <td>0.000000</td>\n",
       "      <td>True</td>\n",
       "      <td>-87.624942</td>\n",
       "      <td>41.769194</td>\n",
       "      <td>0.033333</td>\n",
       "    </tr>\n",
       "    <tr>\n",
       "      <th>3</th>\n",
       "      <td>1 E WACKER DR</td>\n",
       "      <td>0.000000</td>\n",
       "      <td>0.002770</td>\n",
       "      <td>False</td>\n",
       "      <td>-87.627975</td>\n",
       "      <td>41.886814</td>\n",
       "      <td>-0.002770</td>\n",
       "    </tr>\n",
       "    <tr>\n",
       "      <th>4</th>\n",
       "      <td>1 N CENTRAL AVE</td>\n",
       "      <td>0.000000</td>\n",
       "      <td>0.033241</td>\n",
       "      <td>False</td>\n",
       "      <td>-87.764864</td>\n",
       "      <td>41.880246</td>\n",
       "      <td>-0.033241</td>\n",
       "    </tr>\n",
       "  </tbody>\n",
       "</table>\n",
       "</div>"
      ],
      "text/plain": [
       "            street  4th metric  5th metric  4th > 5th metric  longitude  \\\n",
       "0     1 E 118TH ST    0.000000    0.005731             False -87.622716   \n",
       "1      1 E 63RD ST    0.000000    0.035191             False -87.625375   \n",
       "2      1 E 69TH ST    0.033333    0.000000              True -87.624942   \n",
       "3    1 E WACKER DR    0.000000    0.002770             False -87.627975   \n",
       "4  1 N CENTRAL AVE    0.000000    0.033241             False -87.764864   \n",
       "\n",
       "    latitude  metric diff  \n",
       "0  41.679850    -0.005731  \n",
       "1  41.780058    -0.035191  \n",
       "2  41.769194     0.033333  \n",
       "3  41.886814    -0.002770  \n",
       "4  41.880246    -0.033241  "
      ]
     },
     "execution_count": 105,
     "metadata": {},
     "output_type": "execute_result"
    }
   ],
   "source": [
    "fourth_metric_merged['metric diff'] = fourth_metric_merged['4th metric'] - \\\n",
    "fourth_metric_merged['5th metric']\n",
    "fourth_metric_merged.head()"
   ]
  },
  {
   "cell_type": "code",
   "execution_count": 99,
   "metadata": {},
   "outputs": [
    {
     "data": {
      "text/plain": [
       "4th metric           0.005455\n",
       "5th metric           0.007564\n",
       "4th > 5th metric     0.037102\n",
       "longitude          -87.671581\n",
       "latitude            41.830190\n",
       "metric diff         -0.002109\n",
       "dtype: float64"
      ]
     },
     "execution_count": 99,
     "metadata": {},
     "output_type": "execute_result"
    }
   ],
   "source": [
    "pd.DataFrame.mean(fourth_metric_merged)"
   ]
  },
  {
   "cell_type": "markdown",
   "metadata": {},
   "source": [
    "On average, the crime rate during non-outage periods is 0.00211 greater than that during outage periods.  \n",
    "\n",
    "What's interesting, however, is that lights with higher crime rates during outage periods have a high average metric difference (0.132657)--much higher than that for lights with lower crime rates during outage periods (0.007302). \n",
    "\n",
    "In other words, when the crime rate during outages is higher than the crime rate during non-outage periods, it's *much* higher. On the other hand, when the crime rate during outages is lower than the crime rate during non-outage periods, it's *not that much* lower, on average."
   ]
  },
  {
   "cell_type": "code",
   "execution_count": 100,
   "metadata": {},
   "outputs": [
    {
     "data": {
      "text/plain": [
       "4th metric           0.145864\n",
       "5th metric           0.013208\n",
       "4th > 5th metric     1.000000\n",
       "longitude          -87.668447\n",
       "latitude            41.824516\n",
       "metric diff          0.132657\n",
       "dtype: float64"
      ]
     },
     "execution_count": 100,
     "metadata": {},
     "output_type": "execute_result"
    }
   ],
   "source": [
    "pd.DataFrame.mean(fourth_metric_merged[fourth_metric_merged['4th > 5th metric'] == True])"
   ]
  },
  {
   "cell_type": "code",
   "execution_count": 101,
   "metadata": {},
   "outputs": [
    {
     "data": {
      "text/plain": [
       "4th metric           0.000045\n",
       "5th metric           0.007347\n",
       "4th > 5th metric     0.000000\n",
       "longitude          -87.671701\n",
       "latitude            41.830409\n",
       "metric diff         -0.007302\n",
       "dtype: float64"
      ]
     },
     "execution_count": 101,
     "metadata": {},
     "output_type": "execute_result"
    }
   ],
   "source": [
    "pd.DataFrame.mean(fourth_metric_merged[fourth_metric_merged['4th > 5th metric'] == False])"
   ]
  }
 ],
 "metadata": {
  "kernelspec": {
   "display_name": "Python 3",
   "language": "python",
   "name": "python3"
  },
  "language_info": {
   "codemirror_mode": {
    "name": "ipython",
    "version": 3
   },
   "file_extension": ".py",
   "mimetype": "text/x-python",
   "name": "python",
   "nbconvert_exporter": "python",
   "pygments_lexer": "ipython3",
   "version": "3.7.3"
  }
 },
 "nbformat": 4,
 "nbformat_minor": 2
}
